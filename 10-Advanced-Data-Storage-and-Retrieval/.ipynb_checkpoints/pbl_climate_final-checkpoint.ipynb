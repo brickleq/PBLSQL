{
 "cells": [
  {
   "cell_type": "code",
   "execution_count": 8,
   "metadata": {},
   "outputs": [],
   "source": [
    "# Dependencies\n",
    "%matplotlib inline\n",
    "from matplotlib import style\n",
    "style.use('fivethirtyeight')\n",
    "import matplotlib.pyplot as plt\n",
    "import numpy as np\n",
    "import pandas as pd\n",
    "import datetime as dt\n",
    "from datetime import date, timedelta\n",
    "\n",
    "# Python SQL toolkit and Object Relational Mapper\n",
    "import sqlalchemy\n",
    "from sqlalchemy.ext.automap import automap_base\n",
    "from sqlalchemy.orm import Session\n",
    "from sqlalchemy import create_engine, func, distinct, text\n"
   ]
  },
  {
   "cell_type": "code",
   "execution_count": 9,
   "metadata": {},
   "outputs": [],
   "source": [
    "# # * Choose a start date and end date for your trip. Make sure that your vacation range is approximately 3-15 days total.\n",
    "\n",
    "vacay_start_date = dt.date(2019,8,4)\n",
    "vacay_end_date = dt.date(2019,8,10)\n",
    "\n",
    "#vacay_start_date = dt.datetime.strftime(vacay_start_date, '%Y-%m-%d')\n",
    "#vacay_end_date = dt.datetime.strftime(vacay_end_date, '%Y-%m-%d')\n",
    "\n",
    "# Reflect Tables into SQLAlchemy ORM\n",
    "\n",
    "engine = create_engine(\"sqlite:///Resources/hawaii.sqlite\")\n",
    "conn = engine.connect() #do i need this?\n",
    "# reflect an existing database into a new model\n",
    "Base = automap_base()\n",
    "# reflect the tables\n",
    "Base.prepare(engine, reflect=True)\n",
    "# We can view all of the classes that automap found\n",
    "Base.classes.keys()\n",
    "# Save references to each table\n",
    "Measurement = Base.classes.measurement\n",
    "Station = Base.classes.station\n",
    "# Create our session (link) from Python to the DB\n",
    "session = Session(engine)\n"
   ]
  },
  {
   "cell_type": "markdown",
   "metadata": {},
   "source": [
    " # Exploratory Climate Analysis"
   ]
  },
  {
   "cell_type": "code",
   "execution_count": 17,
   "metadata": {},
   "outputs": [],
   "source": [
    "# Design a query to retrieve the last 12 months of precipitation data and plot the results\n",
    "\n",
    "m_data = engine.execute('SELECT * FROM Measurement')\n",
    "\n",
    "stations = []\n",
    "dates = []\n",
    "prcps = []\n",
    "tobses = []\n",
    "\n",
    "for record in m_data:\n",
    "    station = record[1]\n",
    "    date = dt.datetime.strptime(record[2],'%Y-%m-%d')\n",
    "    dates.append(date)\n",
    "    stations.append(str(station))\n",
    "    prcp = record[3]\n",
    "    prcps.append(prcp)\n",
    "    tobs = record[4]\n",
    "    tobses.append(tobs)\n",
    "dict = {'station':stations,'date':dates,'prcp':prcps,'tobs':tobses}\n",
    "\n",
    "m_df = pd.DataFrame(dict)\n",
    "m_df.dropna(inplace=True) # does 'None' mean no precipitation, or no record of precipitation?"
   ]
  },
  {
   "cell_type": "code",
   "execution_count": null,
   "metadata": {},
   "outputs": [],
   "source": []
  },
  {
   "cell_type": "code",
   "execution_count": 18,
   "metadata": {},
   "outputs": [
    {
     "name": "stdout",
     "output_type": "stream",
     "text": [
      "{'station': ['USC00519397', 'USC00513117', 'USC00514830', 'USC00517948', 'USC00518838', 'USC00519523', 'USC00519281', 'USC00511918', 'USC00516128'], 'name': ['WAIKIKI 717.2, HI US', 'KANEOHE 838.1, HI US', 'KUALOA RANCH HEADQUARTERS 886.9, HI US', 'PEARL CITY, HI US', 'UPPER WAHIAWA 874.3, HI US', 'WAIMANALO EXPERIMENTAL FARM, HI US', 'WAIHEE 837.5, HI US', 'HONOLULU OBSERVATORY 702.2, HI US', 'MANOA LYON ARBO 785.2, HI US'], 'latitude': [21.2716, 21.4234, 21.5213, 21.3934, 21.4992, 21.33556, 21.45167, 21.3152, 21.3331], 'longitude': [-157.8168, -157.8015, -157.8374, -157.9751, -158.0111, -157.71139, -157.84888999999998, -157.9992, -157.8025], 'elevation': [3.0, 14.6, 7.0, 11.9, 306.6, 19.5, 32.9, 0.9, 152.4]}\n"
     ]
    }
   ],
   "source": [
    "# station,name,latitude,longitude,elevation\n",
    "s_data = engine.execute('SELECT * FROM Station')\n",
    "\n",
    "stations = []\n",
    "names = []\n",
    "latitudes = []\n",
    "longitudes = []\n",
    "elevations = []\n",
    "\n",
    "for record in s_data:\n",
    "    station = str(record[1])\n",
    "    name = str(record[2])\n",
    "    latitude = float(record[3])\n",
    "    longitude = float(record[4])\n",
    "    elevation = float(record[5])\n",
    "    stations.append(station)\n",
    "    names.append(name)\n",
    "    latitudes.append(latitude)\n",
    "    longitudes.append(longitude)\n",
    "    elevations.append(elevation)\n",
    "dict = {'station':stations,'name':names,'latitude':latitudes,'longitude':longitudes,'elevation':elevations}\n",
    "print(dict)\n",
    "s_df = pd.DataFrame(dict)"
   ]
  },
  {
   "cell_type": "code",
   "execution_count": 19,
   "metadata": {},
   "outputs": [],
   "source": [
    "main_df = pd.DataFrame\n",
    "main_df = m_df.merge(s_df, on='station')\n"
   ]
  },
  {
   "cell_type": "code",
   "execution_count": 21,
   "metadata": {},
   "outputs": [
    {
     "name": "stdout",
     "output_type": "stream",
     "text": [
      "2016-08-23 00:00:00 2017-08-23 00:00:00\n"
     ]
    }
   ],
   "source": [
    "# # Calculate the date 1 year ago from the last data point in the database\n",
    "data_end_date = max(dates)\n",
    "data_start_date = data_end_date - timedelta(days=365)\n",
    "print(data_start_date,data_end_date)"
   ]
  },
  {
   "cell_type": "code",
   "execution_count": 23,
   "metadata": {},
   "outputs": [],
   "source": [
    "# Perform a query to retrieve the data and precipitation scores\n",
    "precip = engine.execute('SELECT date,prcp FROM Measurement WHERE date >= ?',data_start_date)\n",
    "dates = []\n",
    "prcps = []\n",
    "\n",
    "for record in precip: \n",
    "    date = dt.datetime.strptime(record[0],'%Y-%m-%d')\n",
    "    dates.append(date)\n",
    "    prcp = record[1]\n",
    "    prcps.append(prcp)\n",
    "dict = {'date':dates,'prcp':prcps}\n",
    "# Save the query results as a Pandas DataFrame and set the index to the date column\n",
    "precip = pd.DataFrame(dict)\n",
    "precip.set_index('date',inplace=True)\n",
    "# Sort the dataframe by date\n",
    "precip.sort_values(by='date',inplace=True)\n",
    "# Remove rows with null values\n",
    "precip.dropna(inplace=True)"
   ]
  },
  {
   "cell_type": "code",
   "execution_count": 25,
   "metadata": {},
   "outputs": [
    {
     "ename": "TypeError",
     "evalue": "'int' object is not callable",
     "output_type": "error",
     "traceback": [
      "\u001b[0;31m---------------------------------------------------------------------------\u001b[0m",
      "\u001b[0;31mTypeError\u001b[0m                                 Traceback (most recent call last)",
      "\u001b[0;32m<ipython-input-25-89289d464d5d>\u001b[0m in \u001b[0;36m<module>\u001b[0;34m\u001b[0m\n\u001b[1;32m      1\u001b[0m \u001b[0;31m# Use Pandas Plotting with Matplotlib to plot the data\u001b[0m\u001b[0;34m\u001b[0m\u001b[0;34m\u001b[0m\u001b[0;34m\u001b[0m\u001b[0m\n\u001b[1;32m      2\u001b[0m \u001b[0mplt\u001b[0m\u001b[0;34m.\u001b[0m\u001b[0mplot\u001b[0m\u001b[0;34m(\u001b[0m\u001b[0mprecip\u001b[0m\u001b[0;34m.\u001b[0m\u001b[0mindex\u001b[0m\u001b[0;34m,\u001b[0m\u001b[0mprecip\u001b[0m\u001b[0;34m[\u001b[0m\u001b[0;34m'prcp'\u001b[0m\u001b[0;34m]\u001b[0m\u001b[0;34m)\u001b[0m\u001b[0;34m\u001b[0m\u001b[0;34m\u001b[0m\u001b[0m\n\u001b[0;32m----> 3\u001b[0;31m \u001b[0mplt\u001b[0m\u001b[0;34m.\u001b[0m\u001b[0mxticks\u001b[0m\u001b[0;34m(\u001b[0m\u001b[0;36m365\u001b[0m\u001b[0;34m)\u001b[0m\u001b[0;34m\u001b[0m\u001b[0;34m\u001b[0m\u001b[0m\n\u001b[0m\u001b[1;32m      4\u001b[0m \u001b[0mplt\u001b[0m\u001b[0;34m.\u001b[0m\u001b[0myticks\u001b[0m\u001b[0;34m(\u001b[0m\u001b[0;36m7\u001b[0m\u001b[0;34m)\u001b[0m\u001b[0;34m\u001b[0m\u001b[0;34m\u001b[0m\u001b[0m\n\u001b[1;32m      5\u001b[0m \u001b[0mplt\u001b[0m\u001b[0;34m.\u001b[0m\u001b[0mxlabel\u001b[0m\u001b[0;34m(\u001b[0m\u001b[0;34m'Date'\u001b[0m\u001b[0;34m)\u001b[0m\u001b[0;34m\u001b[0m\u001b[0;34m\u001b[0m\u001b[0m\n",
      "\u001b[0;31mTypeError\u001b[0m: 'int' object is not callable"
     ]
    },
    {
     "data": {
      "image/png": "[encoded data removed]",
      "text/plain": [
       "<Figure size 432x288 with 1 Axes>"
      ]
     },
     "metadata": {},
     "output_type": "display_data"
    }
   ],
   "source": [
    "# Use Pandas Plotting with Matplotlib to plot the data\n",
    "plt.plot(precip.index,precip['prcp'])\n",
    "plt.xticks(365)\n",
    "plt.yticks(7)\n",
    "plt.xlabel('Date')\n",
    "plt.ylabel('Precipitation')\n",
    "plt.title('Precipitation - Past Year')\n",
    "plt.show()\n",
    "plt.savefig('prcp.png')"
   ]
  },
  {
   "cell_type": "code",
   "execution_count": 0,
   "metadata": {},
   "outputs": [],
   "source": []
  },
  {
   "cell_type": "code",
   "execution_count": 0,
   "metadata": {},
   "outputs": [],
   "source": [
    "# Use Pandas to calcualte the summary statistics for the precipitation data\n",
    "df.describe()"
   ]
  },
  {
   "cell_type": "code",
   "execution_count": 0,
   "metadata": {},
   "outputs": [],
   "source": [
    "# Design a query to show how many stations are available in this dataset?\n",
    "session.query(Measurement.station).distinct().count() #output: 9\n",
    "#session.query(Station.station).distinct().count() #output: 9. Samesies!\n"
   ]
  },
  {
   "cell_type": "code",
   "execution_count": 0,
   "metadata": {},
   "outputs": [],
   "source": [
    "# What are the most active stations? (i.e. what stations have the most rows)?\n",
    "# List the stations and the counts in descending order.\n",
    "most_active_stations = session.query(Measurement.station, func.count(Measurement.id)).group_by(Measurement.station).order_by(func.count(Measurement.id).desc()).all()\n",
    "print(most_active_stations)\n"
   ]
  },
  {
   "cell_type": "code",
   "execution_count": 0,
   "metadata": {},
   "outputs": [],
   "source": [
    "# Using the station id from the previous query, \n",
    "most_active_station = session.query(Measurement.station, func.count(Measurement.id)).group_by(Measurement.station).order_by(func.count(Measurement.id).desc()).first()\n",
    "most_active_station\n",
    "most_active_station = most_active_station[0]\n",
    "most_active_station\n"
   ]
  },
  {
   "cell_type": "code",
   "execution_count": 0,
   "metadata": {},
   "outputs": [],
   "source": [
    "# calculate the lowest temperature recorded, \n",
    "# highest temperature recorded, and average temperature most active station?\n",
    "'''\n",
    "lowest_temp = session.query(func.min(Measurement.tobs)).filter(Measurement.station == 'USC00519281').all()\n",
    "display(lowest_temp)\n",
    "'''"
   ]
  },
  {
   "cell_type": "code",
   "execution_count": 0,
   "metadata": {},
   "outputs": [],
   "source": [
    "min_temp = session.query(func.min(Measurement.tobs)).filter(Measurement.station==most_active_station).all()\n",
    "display(min_temp)\n",
    "max_temp = session.query(func.max(Measurement.tobs)).filter(Measurement.station==most_active_station).all()\n",
    "display(max_temp)\n",
    "avg_temp = session.query(func.avg(Measurement.tobs)).filter(Measurement.station==most_active_station).all()\n",
    "display(avg_temp)\n"
   ]
  },
  {
   "cell_type": "code",
   "execution_count": 0,
   "metadata": {},
   "outputs": [],
   "source": [
    "# Choose the station with the highest number of temperature observations.\n",
    "station_with_most_tobs = session.query(Measurement.station, func.count(Measurement.tobs)).group_by(Measurement.station).order_by(func.count(Measurement.tobs).desc()).first()\n",
    "display(station_with_most_tobs)\n",
    "station_with_most_tobs = station_with_most_tobs[0]\n",
    "display(station_with_most_tobs)\n",
    "# Query the last 12 months of temperature observation data for this station and plot the results as a histogram\n",
    "last_years_tobs = session.query(Measurement.tobs).filter(Measurement.date >= data_start_date).all()\n",
    "display(last_years_tobs)\n",
    "last_years_tobs = pd.DataFrame(data=last_years_tobs)\n",
    "#tobs_for_histogram = pd.DataFrame\n",
    "#last_years_tobs = pd.Series(last_years_tobs)\n",
    "#tobs_for_histogram['tobs'] = last_years_tobs \n",
    "tobs_for_histogram = last_years_tobs['tobs'].tolist()"
   ]
  },
  {
   "cell_type": "code",
   "execution_count": 0,
   "metadata": {},
   "outputs": [],
   "source": [
    "\n",
    "# plt.hist(last_years_tobs,bins=12) ### HANGS IN BOTH VSCODE AND JUPYTER NOTEBOOK\n",
    "import matplotlib.pyplot as plt\n",
    "plt.hist(tobs_for_histogram, bins=12)\n",
    "plt.title('Temperature Observations Over 12 Months - Most Active Station')\n",
    "plt.xlabel('Temperature (F)')\n",
    "plt.ylabel('Frequency')\n",
    "plt.legend('Temperature Observations', location='best')\n",
    "plt.show()\n",
    "plt.savefig('histogram.png')"
   ]
  },
  {
   "cell_type": "code",
   "execution_count": 0,
   "metadata": {},
   "outputs": [],
   "source": [
    "# This function called `calc_temps` will accept start date and end date in the format '%Y-%m-%d' \n",
    "# and return the minimum, average, and maximum temperatures for that range of dates\n",
    "start_date = data_start_date\n",
    "end_date = data_end_date\n",
    "def calc_temps(start_date, end_date):\n",
    "    \"\"\"TMIN, TAVG, and TMAX for a list of dates.\n",
    "    \n",
    "    Args:\n",
    "        start_date (string): A date string in the format %Y-%m-%d\n",
    "        end_date (string): A date string in the format %Y-%m-%d\n",
    "        \n",
    "    Returns:\n",
    "        TMIN, TAVE, and TMAX\n",
    "    \"\"\"\n",
    "    \n",
    "    return session.query(func.min(Measurement.tobs), func.avg(Measurement.tobs), func.max(Measurement.tobs)).        filter(Measurement.date >= start_date).filter(Measurement.date <= end_date).all()\n",
    "\n",
    "# function usage example\n",
    "print(calc_temps('2012-02-28', '2012-03-05'))\n",
    "\n"
   ]
  },
  {
   "cell_type": "code",
   "execution_count": 0,
   "metadata": {},
   "outputs": [],
   "source": [
    "# Use your previous function `calc_temps` to calculate the tmin, tavg, and tmax \n",
    "# for your trip using the previous year's data for those same dates.\n",
    "start_date = vacay_start_date - timedelta(days=730) #using 2017 data b/c 2018 data not available\n",
    "end_date = vacay_end_date - timedelta(days=730)\n",
    "print(calc_temps(start_date,end_date))\n",
    "'''\n",
    "trip_temps = str(calc_temps(start_date,end_date))\n",
    "trip_temps = trip_temps.split(', ')\n",
    "peak_to_peak = trip_temps[2] - trip_temps[0]\n",
    "trip_temps = calc_temps(start_date,end_date)\n",
    "'''"
   ]
  },
  {
   "cell_type": "code",
   "execution_count": 0,
   "metadata": {},
   "outputs": [],
   "source": [
    "# Plot the results from your previous query as a bar chart. \n",
    "# Use \"Trip Avg Temp\" as your Title\n",
    "# Use the average temperature for the y value\n",
    "# Use the peak-to-peak (tmax-tmin) value as the y error bar (yerr)\n",
    "plt.bar(x=79.70370370370371, yerr = 12, width=1, height=90)\n",
    "#plt.errorbar(71,83,yerr=12)\n",
    "plt.title='Trip Avg Temp'\n",
    "plt.show()\n",
    "plt.savefig('bar_chart.png')\n"
   ]
  },
  {
   "cell_type": "code",
   "execution_count": 0,
   "metadata": {},
   "outputs": [],
   "source": [
    "# Calculate the total amount of rainfall per weather station for your trip dates using the previous year's matching dates.\n",
    "# Sort this in descending order by precipitation amount and list the station, name, latitude, longitude, and elevation\n",
    "vacay_start_date = dt.datetime(2019,8,4)\n",
    "vacay_end_date = dt.datetime(2019,8,10)\n",
    "\n",
    "#vacay_start_date = dt.datetime.strftime(vacay_start_date, '%Y-%m-%d')\n",
    "#vacay_end_date = dt.datetime.strftime(vacay_end_date, '%Y-%m-%d')\n",
    "start_date = vacay_start_date - timedelta(days=730)\n",
    "end_date = vacay_end_date - timedelta(days=730)\n",
    "\n",
    "main_df.head()\n",
    "precip_df = main_df[(main_df['date'] > start_date) & (main_df['date'] <= end_date)]\n",
    "precip_df\n",
    "grouped = precip_df.groupby(['station'])['prcp'].sum().reset_index()\n",
    "grouped = grouped.sort_values('prcp',ascending=False)\n",
    "grouped\n",
    "precip_df = pd.DataFrame\n",
    "precip_df = grouped.merge(s_df, on='station')\n",
    "precip_df"
   ]
  },
  {
   "cell_type": "code",
   "execution_count": 0,
   "metadata": {},
   "outputs": [],
   "source": [
    "stations = precip_df.station.unique()\n",
    "stations"
   ]
  },
  {
   "cell_type": "code",
   "execution_count": 0,
   "metadata": {},
   "outputs": [],
   "source": [
    "'''\n",
    "## Step 2 - Climate App\n",
    "\n",
    "Now that you have completed your initial analysis, design a Flask API based on the queries that you have just developed.\n",
    "\n",
    "* Use FLASK to create your routes.\n",
    "'''\n",
    "app = Flask(__name__)\n",
    "import warnings\n",
    "warnings.filterwarnings('ignore')\n",
    "\n",
    "'''\n",
    "### Routes\n",
    "\n",
    "* `/`\n",
    "\n",
    "  * Home page.\n",
    "\n",
    "  * List all routes that are available.\n",
    "'''\n",
    "@app.route(\"/\")\n",
    "def welcome():\n",
    "    \"\"\"List all available api routes.\"\"\"\n",
    "    return (\n",
    "        f\"Available Routes:<br/>\"\n",
    "        f\"/api/v1.0/precipitation<br/>\"\n",
    "        f\"/api/v1.0/stations<br/>\"\n",
    "        f\"/api/v1.0/tobs<br/>\"\n",
    "        f\"/api/v1.0/<start><br/>\"\n",
    "        f\"/api/v1.0/<end>\"\n",
    "    )"
   ]
  },
  {
   "cell_type": "code",
   "execution_count": 0,
   "metadata": {},
   "outputs": [],
   "source": [
    "\n",
    "'''\n",
    "* `/api/v1.0/precipitation`\n",
    "\n",
    "  * Convert the query results to a Dictionary using `date` as the key and `prcp` as the value.\n",
    "\n",
    "  * Return the JSON representation of your dictionary.\n",
    "\n",
    "* `/api/v1.0/stations`\n",
    "\n",
    "  * Return a JSON list of stations from the dataset.\n",
    "\n",
    "* `/api/v1.0/tobs`\n",
    "  * query for the dates and temperature observations from a year from the last data point.\n",
    "  * Return a JSON list of Temperature Observations (tobs) for the previous year.\n",
    "\n",
    "* `/api/v1.0/<start>` and `/api/v1.0/<start>/<end>`\n",
    "\n",
    "  * Return a JSON list of the minimum temperature, the average temperature, and the max temperature for a given start or start-end range.\n",
    "\n",
    "  * When given the start only, calculate `TMIN`, `TAVG`, and `TMAX` for all dates greater than and equal to the start date.\n",
    "\n",
    "  * When given the start and the end date, calculate the `TMIN`, `TAVG`, and `TMAX` for dates between the start and end date inclusive.\n",
    "\n",
    "## Hints\n",
    "\n",
    "* You will need to join the station and measurement tables for some of the analysis queries.\n",
    "\n",
    "* Use Flask `jsonify` to convert your API data into a valid JSON response object.\n",
    "\n",
    "- - -\n",
    "'''"
   ]
  }
 ],
 "metadata": {
  "file_extension": ".py",
  "kernelspec": {
   "display_name": "Python 3",
   "language": "python",
   "name": "python3"
  },
  "language_info": {
   "codemirror_mode": {
    "name": "ipython",
    "version": 3
   },
   "file_extension": ".py",
   "mimetype": "text/x-python",
   "name": "python",
   "nbconvert_exporter": "python",
   "pygments_lexer": "ipython3",
   "version": "3.6.7"
  },
  "mimetype": "text/x-python",
  "name": "python",
  "npconvert_exporter": "python",
  "pygments_lexer": "ipython3",
  "version": 3
 },
 "nbformat": 4,
 "nbformat_minor": 2
}
