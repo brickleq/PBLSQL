{
 "cells": [
  {
   "cell_type": "code",
   "execution_count": 4,
   "metadata": {},
   "outputs": [],
   "source": [
    "# Dependencies\n",
    "%matplotlib inline\n",
    "from matplotlib import style\n",
    "style.use('fivethirtyeight')\n",
    "import matplotlib.pyplot as plt\n",
    "import numpy as np\n",
    "import pandas as pd\n",
    "import datetime as dt\n",
    "from datetime import date, timedelta\n",
    "\n",
    "# Python SQL toolkit and Object Relational Mapper\n",
    "import sqlalchemy\n",
    "from sqlalchemy.ext.automap import automap_base\n",
    "from sqlalchemy.orm import Session\n",
    "from sqlalchemy import create_engine, func, distinct, text\n"
   ]
  },
  {
   "cell_type": "code",
   "execution_count": 5,
   "metadata": {},
   "outputs": [],
   "source": [
    "# # * Choose a start date and end date for your trip. Make sure that your vacation range is approximately 3-15 days total.\n",
    "\n",
    "vacay_start_date = dt.date(2019,8,4)\n",
    "vacay_end_date = dt.date(2019,8,10)\n",
    "\n",
    "#vacay_start_date = dt.datetime.strftime(vacay_start_date, '%Y-%m-%d')\n",
    "#vacay_end_date = dt.datetime.strftime(vacay_end_date, '%Y-%m-%d')\n",
    "\n",
    "# Reflect Tables into SQLAlchemy ORM\n",
    "\n",
    "engine = create_engine(\"sqlite:///Resources/hawaii.sqlite\")\n",
    "conn = engine.connect() #do i need this?\n",
    "# reflect an existing database into a new model\n",
    "Base = automap_base()\n",
    "# reflect the tables\n",
    "Base.prepare(engine, reflect=True)\n",
    "# We can view all of the classes that automap found\n",
    "Base.classes.keys()\n",
    "# Save references to each table\n",
    "Measurement = Base.classes.measurement\n",
    "Station = Base.classes.station\n",
    "# Create our session (link) from Python to the DB\n",
    "session = Session(engine)\n"
   ]
  },
  {
   "cell_type": "markdown",
   "metadata": {},
   "source": [
    " # Exploratory Climate Analysis"
   ]
  },
  {
   "cell_type": "code",
   "execution_count": 6,
   "metadata": {},
   "outputs": [],
   "source": [
    "# Design a query to retrieve the last 12 months of precipitation data and plot the results\n",
    "\n",
    "m_data = engine.execute('SELECT * FROM Measurement')\n",
    "\n",
    "stations = []\n",
    "dates = []\n",
    "prcps = []\n",
    "tobses = []\n",
    "\n",
    "for record in m_data:\n",
    "    station = record[1]\n",
    "    date = dt.datetime.strptime(record[2],'%Y-%m-%d')\n",
    "    dates.append(date)\n",
    "    stations.append(str(station))\n",
    "    prcp = record[3]\n",
    "    prcps.append(prcp)\n",
    "    tobs = record[4]\n",
    "    tobses.append(tobs)\n",
    "dict = {'station':stations,'date':dates,'prcp':prcps,'tobs':tobses}\n",
    "\n",
    "m_df = pd.DataFrame(dict)\n",
    "m_df.dropna(inplace=True) # does 'None' mean no precipitation, or no record of precipitation?"
   ]
  },
  {
   "cell_type": "code",
   "execution_count": null,
   "metadata": {},
   "outputs": [],
   "source": []
  },
  {
   "cell_type": "code",
   "execution_count": 7,
   "metadata": {},
   "outputs": [],
   "source": [
    "# station,name,latitude,longitude,elevation\n",
    "s_data = engine.execute('SELECT * FROM Station')\n",
    "\n",
    "stations = []\n",
    "names = []\n",
    "latitudes = []\n",
    "longitudes = []\n",
    "elevations = []\n",
    "\n",
    "for record in s_data:\n",
    "    station = str(record[1])\n",
    "    name = str(record[2])\n",
    "    latitude = float(record[3])\n",
    "    longitude = float(record[4])\n",
    "    elevation = float(record[5])\n",
    "    stations.append(station)\n",
    "    names.append(name)\n",
    "    latitudes.append(latitude)\n",
    "    longitudes.append(longitude)\n",
    "    elevations.append(elevation)\n",
    "dict = {'station':stations,'name':names,'latitude':latitudes,'longitude':longitudes,'elevation':elevations}\n",
    "s_df = pd.DataFrame(dict)"
   ]
  },
  {
   "cell_type": "code",
   "execution_count": 8,
   "metadata": {},
   "outputs": [],
   "source": [
    "main_df = pd.DataFrame\n",
    "main_df = m_df.merge(s_df, on='station')\n"
   ]
  },
  {
   "cell_type": "code",
   "execution_count": 9,
   "metadata": {},
   "outputs": [
    {
     "name": "stdout",
     "output_type": "stream",
     "text": [
      "2016-08-23 00:00:00 2017-08-23 00:00:00\n"
     ]
    }
   ],
   "source": [
    "# # Calculate the date 1 year ago from the last data point in the database\n",
    "data_end_date = max(dates)\n",
    "data_start_date = data_end_date - timedelta(days=365)\n",
    "print(data_start_date,data_end_date)"
   ]
  },
  {
   "cell_type": "code",
   "execution_count": 10,
   "metadata": {},
   "outputs": [],
   "source": [
    "# Perform a query to retrieve the data and precipitation scores\n",
    "precip = engine.execute('SELECT date,prcp FROM Measurement WHERE date >= ?',data_start_date)\n",
    "dates = []\n",
    "prcps = []\n",
    "\n",
    "for record in precip: \n",
    "    date = dt.datetime.strptime(record[0],'%Y-%m-%d')\n",
    "    dates.append(date)\n",
    "    prcp = record[1]\n",
    "    prcps.append(prcp)\n",
    "dict = {'date':dates,'prcp':prcps}\n",
    "# Save the query results as a Pandas DataFrame and set the index to the date column\n",
    "precip = pd.DataFrame(dict)\n",
    "precip.set_index('date',inplace=True)\n",
    "# Sort the dataframe by date\n",
    "precip.sort_values(by='date',inplace=True)\n",
    "# Remove rows with null values\n",
    "precip.dropna(inplace=True)"
   ]
  },
  {
   "cell_type": "code",
   "execution_count": 11,
   "metadata": {},
   "outputs": [
    {
     "data": {
      "image/png": "[encoded data removed]",
      "text/plain": [
       "<Figure size 432x288 with 1 Axes>"
      ]
     },
     "metadata": {
      "needs_background": "light"
     },
     "output_type": "display_data"
    },
    {
     "data": {
      "text/plain": [
       "<Figure size 432x288 with 0 Axes>"
      ]
     },
     "metadata": {},
     "output_type": "display_data"
    }
   ],
   "source": [
    "# Use Pandas Plotting with Matplotlib to plot the data\n",
    "plt.plot(precip.index,precip['prcp'])\n",
    "plt.xlabel('Date')\n",
    "plt.ylabel('Precipitation')\n",
    "plt.title('Precipitation - Past Year')\n",
    "plt.show()\n",
    "plt.savefig('prcp.png')"
   ]
  },
  {
   "cell_type": "code",
   "execution_count": 12,
   "metadata": {},
   "outputs": [
    {
     "data": {
      "text/html": [
       "<div>\n",
       "<style scoped>\n",
       "    .dataframe tbody tr th:only-of-type {\n",
       "        vertical-align: middle;\n",
       "    }\n",
       "\n",
       "    .dataframe tbody tr th {\n",
       "        vertical-align: top;\n",
       "    }\n",
       "\n",
       "    .dataframe thead th {\n",
       "        text-align: right;\n",
       "    }\n",
       "</style>\n",
       "<table border=\"1\" class=\"dataframe\">\n",
       "  <thead>\n",
       "    <tr style=\"text-align: right;\">\n",
       "      <th></th>\n",
       "      <th>prcp</th>\n",
       "    </tr>\n",
       "  </thead>\n",
       "  <tbody>\n",
       "    <tr>\n",
       "      <th>count</th>\n",
       "      <td>2015.000000</td>\n",
       "    </tr>\n",
       "    <tr>\n",
       "      <th>mean</th>\n",
       "      <td>0.176462</td>\n",
       "    </tr>\n",
       "    <tr>\n",
       "      <th>std</th>\n",
       "      <td>0.460288</td>\n",
       "    </tr>\n",
       "    <tr>\n",
       "      <th>min</th>\n",
       "      <td>0.000000</td>\n",
       "    </tr>\n",
       "    <tr>\n",
       "      <th>25%</th>\n",
       "      <td>0.000000</td>\n",
       "    </tr>\n",
       "    <tr>\n",
       "      <th>50%</th>\n",
       "      <td>0.020000</td>\n",
       "    </tr>\n",
       "    <tr>\n",
       "      <th>75%</th>\n",
       "      <td>0.130000</td>\n",
       "    </tr>\n",
       "    <tr>\n",
       "      <th>max</th>\n",
       "      <td>6.700000</td>\n",
       "    </tr>\n",
       "  </tbody>\n",
       "</table>\n",
       "</div>"
      ],
      "text/plain": [
       "              prcp\n",
       "count  2015.000000\n",
       "mean      0.176462\n",
       "std       0.460288\n",
       "min       0.000000\n",
       "25%       0.000000\n",
       "50%       0.020000\n",
       "75%       0.130000\n",
       "max       6.700000"
      ]
     },
     "execution_count": 12,
     "metadata": {},
     "output_type": "execute_result"
    }
   ],
   "source": [
    "# Use Pandas to calcualte the summary statistics for the precipitation data\n",
    "precip.describe()"
   ]
  },
  {
   "cell_type": "code",
   "execution_count": 13,
   "metadata": {},
   "outputs": [
    {
     "data": {
      "text/plain": [
       "9"
      ]
     },
     "execution_count": 13,
     "metadata": {},
     "output_type": "execute_result"
    }
   ],
   "source": [
    "# Design a query to show how many stations are available in this dataset?\n",
    "session.query(Measurement.station).distinct().count() #output: 9\n",
    "#session.query(Station.station).distinct().count() #output: 9. Samesies!\n"
   ]
  },
  {
   "cell_type": "code",
   "execution_count": 14,
   "metadata": {},
   "outputs": [
    {
     "data": {
      "text/plain": [
       "[('USC00519281', 2772),\n",
       " ('USC00519397', 2724),\n",
       " ('USC00513117', 2709),\n",
       " ('USC00519523', 2669),\n",
       " ('USC00516128', 2612),\n",
       " ('USC00514830', 2202),\n",
       " ('USC00511918', 1979),\n",
       " ('USC00517948', 1372),\n",
       " ('USC00518838', 511)]"
      ]
     },
     "execution_count": 14,
     "metadata": {},
     "output_type": "execute_result"
    }
   ],
   "source": [
    "# What are the most active stations? (i.e. what stations have the most rows)?\n",
    "# List the stations and the counts in descending order.\n",
    "most_active_stations = session.query(Measurement.station, func.count(Measurement.id)).group_by(Measurement.station).order_by(func.count(Measurement.id).desc()).all()\n",
    "most_active_stations\n"
   ]
  },
  {
   "cell_type": "code",
   "execution_count": 15,
   "metadata": {},
   "outputs": [
    {
     "data": {
      "text/plain": [
       "'USC00519281'"
      ]
     },
     "execution_count": 15,
     "metadata": {},
     "output_type": "execute_result"
    }
   ],
   "source": [
    "# Using the station id from the previous query, \n",
    "most_active_station = session.query(Measurement.station, func.count(Measurement.id)).group_by(Measurement.station).order_by(func.count(Measurement.id).desc()).first()\n",
    "most_active_station\n",
    "most_active_station = most_active_station[0]\n",
    "most_active_station\n"
   ]
  },
  {
   "cell_type": "code",
   "execution_count": 16,
   "metadata": {},
   "outputs": [
    {
     "data": {
      "text/plain": [
       "[(54.0)]"
      ]
     },
     "metadata": {},
     "output_type": "display_data"
    },
    {
     "data": {
      "text/plain": [
       "[(85.0)]"
      ]
     },
     "metadata": {},
     "output_type": "display_data"
    },
    {
     "data": {
      "text/plain": [
       "[(71.66378066378067)]"
      ]
     },
     "metadata": {},
     "output_type": "display_data"
    }
   ],
   "source": [
    "# calculate the lowest temperature recorded, \n",
    "# highest temperature recorded, and average temperature most active station?\n",
    "min_temp = session.query(func.min(Measurement.tobs)).filter(Measurement.station==most_active_station).all()\n",
    "display(min_temp)\n",
    "max_temp = session.query(func.max(Measurement.tobs)).filter(Measurement.station==most_active_station).all()\n",
    "display(max_temp)\n",
    "avg_temp = session.query(func.avg(Measurement.tobs)).filter(Measurement.station==most_active_station).all()\n",
    "display(avg_temp)"
   ]
  },
  {
   "cell_type": "code",
   "execution_count": 17,
   "metadata": {},
   "outputs": [
    {
     "data": {
      "text/plain": [
       "'USC00519281'"
      ]
     },
     "metadata": {},
     "output_type": "display_data"
    }
   ],
   "source": [
    "# Choose the station with the highest number of temperature observations.\n",
    "station_with_most_tobs = session.query(Measurement.station, func.count(Measurement.tobs)).group_by(Measurement.station).order_by(func.count(Measurement.tobs).desc()).first()\n",
    "station_with_most_tobs = station_with_most_tobs[0]\n",
    "display(station_with_most_tobs)\n",
    "# Query the last 12 months of temperature observation data for this station and plot the results as a histogram\n",
    "last_years_tobs = session.query(Measurement.tobs).filter(Measurement.date >= data_start_date).all()\n",
    "last_years_tobs = pd.DataFrame(data=last_years_tobs)\n",
    "#tobs_for_histogram = pd.DataFrame\n",
    "#last_years_tobs = pd.Series(last_years_tobs)\n",
    "#tobs_for_histogram['tobs'] = last_years_tobs \n",
    "tobs_for_histogram = last_years_tobs['tobs'].tolist()"
   ]
  },
  {
   "cell_type": "code",
   "execution_count": 18,
   "metadata": {},
   "outputs": [
    {
     "data": {
      "image/png": "[encoded data removed]",
      "text/plain": [
       "<Figure size 432x288 with 1 Axes>"
      ]
     },
     "metadata": {
      "needs_background": "light"
     },
     "output_type": "display_data"
    },
    {
     "data": {
      "text/plain": [
       "<Figure size 432x288 with 0 Axes>"
      ]
     },
     "metadata": {},
     "output_type": "display_data"
    }
   ],
   "source": [
    "# plt.hist(last_years_tobs,bins=12) ### HANGS IN BOTH VSCODE AND JUPYTER NOTEBOOK\n",
    "plt.hist(tobs_for_histogram, bins=12)\n",
    "plt.title('Temperature Observations Over 12 Months - Most Active Station')\n",
    "plt.xlabel('Temperature (F)')\n",
    "plt.ylabel('Frequency')\n",
    "plt.legend('tobs', loc=2)\n",
    "plt.show()\n",
    "plt.savefig('histogram.png')"
   ]
  },
  {
   "cell_type": "code",
   "execution_count": 19,
   "metadata": {},
   "outputs": [],
   "source": [
    "# This function called `calc_temps` will accept start date and end date in the format '%Y-%m-%d' \n",
    "# and return the minimum, average, and maximum temperatures for that range of dates\n",
    "start_date = data_start_date\n",
    "end_date = data_end_date\n",
    "def calc_temps(start_date, end_date):\n",
    "    return session.query(func.min(Measurement.tobs), func.avg(Measurement.tobs), func.max(Measurement.tobs)).        filter(Measurement.date >= start_date).filter(Measurement.date <= end_date).all()"
   ]
  },
  {
   "cell_type": "code",
   "execution_count": 61,
   "metadata": {},
   "outputs": [],
   "source": [
    "# Use your previous function `calc_temps` to calculate the tmin, tavg, and tmax \n",
    "# for your trip using the previous year's data for those same dates.\n",
    "start_date = vacay_start_date - timedelta(days=730) #using 2017 data b/c 2018 data not available\n",
    "end_date = vacay_end_date - timedelta(days=730)\n",
    "vacation_dates = calc_temps(start_date,end_date)\n",
    "vacation_dates = pd.DataFrame"
   ]
  },
  {
   "cell_type": "code",
   "execution_count": 69,
   "metadata": {},
   "outputs": [
    {
     "data": {
      "image/png": "[encoded data removed]",
      "text/plain": [
       "<Figure size 432x288 with 1 Axes>"
      ]
     },
     "metadata": {
      "needs_background": "light"
     },
     "output_type": "display_data"
    },
    {
     "data": {
      "text/plain": [
       "<Figure size 432x288 with 0 Axes>"
      ]
     },
     "metadata": {},
     "output_type": "display_data"
    }
   ],
   "source": [
    "# Plot the results from your previous query as a bar chart. \n",
    "# Use \"Trip Avg Temp\" as your Title\n",
    "# Use the average temperature for the y value\n",
    "# Use the peak-to-peak (tmax-tmin) value as the y error bar (yerr)\n",
    "\n",
    "#x = 'Avg.'\n",
    "#plt.bar(x, 79.70370370370371, yerr = 12)\n",
    "plt.bar('Avg',79.70370370370371,yerr=12)\n",
    "plt.title('Trip Avg Temp')\n",
    "plt.ylabel('Temperature °F')\n",
    "plt.show()\n",
    "plt.savefig('bar_chart.png')\n"
   ]
  },
  {
   "cell_type": "code",
   "execution_count": 67,
   "metadata": {},
   "outputs": [
    {
     "data": {
      "text/html": [
       "<div>\n",
       "<style scoped>\n",
       "    .dataframe tbody tr th:only-of-type {\n",
       "        vertical-align: middle;\n",
       "    }\n",
       "\n",
       "    .dataframe tbody tr th {\n",
       "        vertical-align: top;\n",
       "    }\n",
       "\n",
       "    .dataframe thead th {\n",
       "        text-align: right;\n",
       "    }\n",
       "</style>\n",
       "<table border=\"1\" class=\"dataframe\">\n",
       "  <thead>\n",
       "    <tr style=\"text-align: right;\">\n",
       "      <th></th>\n",
       "      <th>station</th>\n",
       "      <th>prcp</th>\n",
       "      <th>name</th>\n",
       "      <th>latitude</th>\n",
       "      <th>longitude</th>\n",
       "      <th>elevation</th>\n",
       "    </tr>\n",
       "  </thead>\n",
       "  <tbody>\n",
       "    <tr>\n",
       "      <th>0</th>\n",
       "      <td>USC00516128</td>\n",
       "      <td>0.61</td>\n",
       "      <td>MANOA LYON ARBO 785.2, HI US</td>\n",
       "      <td>21.33310</td>\n",
       "      <td>-157.80250</td>\n",
       "      <td>152.4</td>\n",
       "    </tr>\n",
       "    <tr>\n",
       "      <th>1</th>\n",
       "      <td>USC00514830</td>\n",
       "      <td>0.10</td>\n",
       "      <td>KUALOA RANCH HEADQUARTERS 886.9, HI US</td>\n",
       "      <td>21.52130</td>\n",
       "      <td>-157.83740</td>\n",
       "      <td>7.0</td>\n",
       "    </tr>\n",
       "    <tr>\n",
       "      <th>2</th>\n",
       "      <td>USC00519281</td>\n",
       "      <td>0.06</td>\n",
       "      <td>WAIHEE 837.5, HI US</td>\n",
       "      <td>21.45167</td>\n",
       "      <td>-157.84889</td>\n",
       "      <td>32.9</td>\n",
       "    </tr>\n",
       "    <tr>\n",
       "      <th>3</th>\n",
       "      <td>USC00519397</td>\n",
       "      <td>0.00</td>\n",
       "      <td>WAIKIKI 717.2, HI US</td>\n",
       "      <td>21.27160</td>\n",
       "      <td>-157.81680</td>\n",
       "      <td>3.0</td>\n",
       "    </tr>\n",
       "    <tr>\n",
       "      <th>4</th>\n",
       "      <td>USC00519523</td>\n",
       "      <td>0.00</td>\n",
       "      <td>WAIMANALO EXPERIMENTAL FARM, HI US</td>\n",
       "      <td>21.33556</td>\n",
       "      <td>-157.71139</td>\n",
       "      <td>19.5</td>\n",
       "    </tr>\n",
       "  </tbody>\n",
       "</table>\n",
       "</div>"
      ],
      "text/plain": [
       "       station  prcp                                    name  latitude  \\\n",
       "0  USC00516128  0.61            MANOA LYON ARBO 785.2, HI US  21.33310   \n",
       "1  USC00514830  0.10  KUALOA RANCH HEADQUARTERS 886.9, HI US  21.52130   \n",
       "2  USC00519281  0.06                     WAIHEE 837.5, HI US  21.45167   \n",
       "3  USC00519397  0.00                    WAIKIKI 717.2, HI US  21.27160   \n",
       "4  USC00519523  0.00      WAIMANALO EXPERIMENTAL FARM, HI US  21.33556   \n",
       "\n",
       "   longitude  elevation  \n",
       "0 -157.80250      152.4  \n",
       "1 -157.83740        7.0  \n",
       "2 -157.84889       32.9  \n",
       "3 -157.81680        3.0  \n",
       "4 -157.71139       19.5  "
      ]
     },
     "execution_count": 67,
     "metadata": {},
     "output_type": "execute_result"
    }
   ],
   "source": [
    "# Calculate the total amount of rainfall per weather station for your trip dates using the previous year's matching dates.\n",
    "# Sort this in descending order by precipitation amount and list the station, name, latitude, longitude, and elevation\n",
    "vacay_start_date = dt.datetime(2019,8,4)\n",
    "vacay_end_date = dt.datetime(2019,8,10)\n",
    "\n",
    "#vacay_start_date = dt.datetime.strftime(vacay_start_date, '%Y-%m-%d')\n",
    "#vacay_end_date = dt.datetime.strftime(vacay_end_date, '%Y-%m-%d')\n",
    "start_date = vacay_start_date - timedelta(days=730)\n",
    "end_date = vacay_end_date - timedelta(days=730)\n",
    "\n",
    "main_df.head()\n",
    "precip_df = main_df[(main_df['date'] > start_date) & (main_df['date'] <= end_date)]\n",
    "precip_df\n",
    "grouped = precip_df.groupby(['station'])['prcp'].sum().reset_index()\n",
    "grouped = grouped.sort_values('prcp',ascending=False)\n",
    "grouped\n",
    "precip_df = pd.DataFrame\n",
    "precip_df = grouped.merge(s_df, on='station')\n",
    "precip_df"
   ]
  },
  {
   "cell_type": "code",
   "execution_count": null,
   "metadata": {},
   "outputs": [],
   "source": []
  }
 ],
 "metadata": {
  "file_extension": ".py",
  "kernelspec": {
   "display_name": "Python 3",
   "language": "python",
   "name": "python3"
  },
  "language_info": {
   "codemirror_mode": {
    "name": "ipython",
    "version": 3
   },
   "file_extension": ".py",
   "mimetype": "text/x-python",
   "name": "python",
   "nbconvert_exporter": "python",
   "pygments_lexer": "ipython3",
   "version": "3.6.7"
  },
  "mimetype": "text/x-python",
  "name": "python",
  "npconvert_exporter": "python",
  "pygments_lexer": "ipython3",
  "version": 3
 },
 "nbformat": 4,
 "nbformat_minor": 2
}
